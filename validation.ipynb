{
 "cells": [
  {
   "cell_type": "code",
   "execution_count": null,
   "metadata": {},
   "outputs": [],
   "source": [
    "import pandas as pd\n",
    "import geopandas as gpd\n",
    "import os\n",
    "from travel_mode_detection.extract_travelAI_like_data import readRawData, readTripData\n",
    "import folium\n",
    "import numpy as np\n",
    "from IPython.display import clear_output\n",
    "\n"
   ]
  },
  {
   "cell_type": "code",
   "execution_count": null,
   "metadata": {},
   "outputs": [],
   "source": [
    "year = 2023\n",
    "file_path = f'U:\\Projects\\Huq\\Faraz\\\\travel_mode_detection\\Glasgow\\\\{year}\\\\validation\\\\predicted_travel_modes.csv'\n",
    "df = pd.read_csv(file_path)\n",
    "gdf = gpd.GeoDataFrame(df, geometry=gpd.points_from_xy(df.tp_lng, df.tp_lat))\n",
    "\n",
    "\n"
   ]
  },
  {
   "cell_type": "code",
   "execution_count": null,
   "metadata": {},
   "outputs": [],
   "source": [
    "trip_ids = np.random.choice(\n",
    "gdf[gdf['travel_mode'] == 'train']['trip_id'].unique(), 100, replace=False)\n",
    "\n",
    "count = 0\n",
    "for idx, tid in enumerate(trip_ids):\n",
    "    tdf = gdf[gdf['trip_id'] == tid]\n",
    "    m = folium.Map(location=[tdf['tp_lat'].mean(), tdf['tp_lng'].mean()], zoom_start=15)\n",
    "    for i, row in tdf.iterrows():\n",
    "        folium.Marker([row['tp_lat'], row['tp_lng']], popup=row['travel_mode']).add_to(m)\n",
    "    # show the map\n",
    "    display(m)\n",
    "    inp = input(f'{idx}: Press Enter to continue...')\n",
    "    if inp == 'z':\n",
    "        count += 1\n",
    "    clear_output()\n",
    "\n",
    "print(f'Acc: {(count/len(trip_ids))*100}%')\n"
   ]
  },
  {
   "cell_type": "code",
   "execution_count": null,
   "metadata": {},
   "outputs": [],
   "source": [
    "\n",
    "    "
   ]
  },
  {
   "cell_type": "code",
   "execution_count": null,
   "metadata": {},
   "outputs": [],
   "source": []
  }
 ],
 "metadata": {
  "kernelspec": {
   "display_name": "travel-mode-detection-WRfcnI0A-py3.11",
   "language": "python",
   "name": "python3"
  },
  "language_info": {
   "codemirror_mode": {
    "name": "ipython",
    "version": 3
   },
   "file_extension": ".py",
   "mimetype": "text/x-python",
   "name": "python",
   "nbconvert_exporter": "python",
   "pygments_lexer": "ipython3",
   "version": "3.11.2"
  }
 },
 "nbformat": 4,
 "nbformat_minor": 2
}
