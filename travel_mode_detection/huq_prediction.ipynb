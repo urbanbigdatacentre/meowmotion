{
 "cells": [
  {
   "cell_type": "code",
   "execution_count": null,
   "metadata": {},
   "outputs": [],
   "source": [
    "import pandas as pd\n",
    "import geopandas as gpd\n",
    "from shapely.geometry import Point\n",
    "import joblib"
   ]
  },
  {
   "cell_type": "code",
   "execution_count": null,
   "metadata": {},
   "outputs": [],
   "source": [
    "model = joblib.load('D:\\\\personal_repositories\\\\travel_mode_detection\\\\artifacts\\\\decision_tree_trained_model.pkl')\n",
    "class_encoder = joblib.load('D:\\\\personal_repositories\\\\travel_mode_detection\\\\artifacts\\\\label_encoder.joblib')"
   ]
  },
  {
   "cell_type": "code",
   "execution_count": null,
   "metadata": {},
   "outputs": [],
   "source": [
    "# read the shape file\n",
    "shapefile_path = 'U:\\Projects\\Huq\\Faraz\\huq_city_data\\Shapefiles\\msoa_intzone_boundaries\\glasgow\\msoa_glasgow.shp'\n",
    "gdf = gpd.read_file(shapefile_path)\n",
    "gdf = gdf.to_crs(epsg=4326)\n",
    "gdf.index\n",
    "pass"
   ]
  },
  {
   "cell_type": "code",
   "execution_count": null,
   "metadata": {},
   "outputs": [],
   "source": [
    "year = 2019\n",
    "data_path = f'U:\\Projects\\Huq\\Faraz\\\\travel_mode_detection\\Glasgow\\\\{year}\\\\processed_trip_points_data.csv'\n",
    "processed_data = pd.read_csv(data_path)\n",
    "processed_data = processed_data[['year', 'distance_threshold', 'uid', 'imd_quintile', 'trip_id',\n",
    "       'total_active_days', 'lat', 'lng', 'org_lat', 'org_lng',\n",
    "       'dest_lat', 'dest_lng', 'datetime', 'num_of_impressions', 'time_taken',\n",
    "       'prev_lat', 'prev_long', 'distance_covered', 'speed', 'date', 'hour',\n",
    "       'speed_z_score', 'new_speed', 'accelaration', 'jerk', 'bearing',\n",
    "       'angular_deviation', 'month', 'is_weekend', 'hour_category',\n",
    "       'start_end_at_bus_stop', 'start_end_at_train_stop',\n",
    "       'start_end_at_metro_stop', 'found_at_green_space',\n",
    "       'straightness_index']]"
   ]
  },
  {
   "cell_type": "code",
   "execution_count": null,
   "metadata": {},
   "outputs": [],
   "source": [
    "\n",
    "attributes = ['month',\n",
    "          'speed_median','speed_pct_95','speed_std',\t\n",
    "          'acceleration_median','acceleration_pct_95','acceleration_std',\n",
    "          'jerk_median','jerk_pct_95','jerk_std',\n",
    "          'angular_dev_median','angular_dev_pct_95','angular_dev_std',\n",
    "          'straightness_index','distance_covered','start_end_at_bus_stop','start_end_at_train_stop','start_end_at_metro_stop','found_at_green_space','is_weekend','hour_category']\n",
    "\n",
    "data_path = f'U:\\Projects\\Huq\\Faraz\\\\travel_mode_detection\\Glasgow\\\\{year}\\\\huq_stats_df_for_ml.csv'\n",
    "data = pd.read_csv(data_path, parse_dates=['datetime'])\n",
    "data['month'] = data['datetime'].dt.month\n",
    "# keep the mode of month for each uid and trip_id\n",
    "data['month'] = data.groupby(['uid', 'trip_id'])['month'].transform(lambda x: x.mode()[0]) # some night trips change the month. So, we keep the mode of month for each trip\n",
    "data = data.drop_duplicates(subset=attributes)\n",
    "\n"
   ]
  },
  {
   "cell_type": "markdown",
   "metadata": {},
   "source": [
    "- **2019:** 24 trips travel_mode NA"
   ]
  },
  {
   "cell_type": "markdown",
   "metadata": {},
   "source": []
  }
 ],
 "metadata": {
  "kernelspec": {
   "display_name": "travel-mode-detection-WRfcnI0A-py3.11",
   "language": "python",
   "name": "python3"
  },
  "language_info": {
   "codemirror_mode": {
    "name": "ipython",
    "version": 3
   },
   "file_extension": ".py",
   "mimetype": "text/x-python",
   "name": "python",
   "nbconvert_exporter": "python",
   "pygments_lexer": "ipython3",
   "version": "3.11.2"
  }
 },
 "nbformat": 4,
 "nbformat_minor": 2
}
